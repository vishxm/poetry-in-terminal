{
 "metadata": {
  "language_info": {
   "codemirror_mode": {
    "name": "ipython",
    "version": 3
   },
   "file_extension": ".py",
   "mimetype": "text/x-python",
   "name": "python",
   "nbconvert_exporter": "python",
   "pygments_lexer": "ipython3",
   "version": "3.9.6-final"
  },
  "orig_nbformat": 2,
  "kernelspec": {
   "name": "python39564bit0bcce883eb3144a5a80bd4f6f9d3600f",
   "display_name": "Python 3.9.5 64-bit"
  }
 },
 "nbformat": 4,
 "nbformat_minor": 2,
 "cells": [
  {
   "cell_type": "code",
   "execution_count": 1,
   "metadata": {},
   "outputs": [],
   "source": [
    "from bs4 import BeautifulSoup\n",
    "import requests"
   ]
  },
  {
   "cell_type": "code",
   "execution_count": 2,
   "metadata": {},
   "outputs": [],
   "source": [
    "url = \"https://www.poetryfoundation.org/\""
   ]
  },
  {
   "cell_type": "code",
   "execution_count": 3,
   "metadata": {},
   "outputs": [],
   "source": [
    "page = requests.get(url)"
   ]
  },
  {
   "cell_type": "code",
   "execution_count": 4,
   "metadata": {},
   "outputs": [],
   "source": [
    "soup = BeautifulSoup(page.content, 'lxml')"
   ]
  },
  {
   "cell_type": "code",
   "execution_count": 5,
   "metadata": {},
   "outputs": [],
   "source": [
    "temp_list = soup.find_all('div', 'c-feature-hd')"
   ]
  },
  {
   "cell_type": "code",
   "execution_count": 6,
   "metadata": {},
   "outputs": [],
   "source": [
    "main_dict = {}"
   ]
  },
  {
   "cell_type": "code",
   "execution_count": 7,
   "metadata": {},
   "outputs": [],
   "source": [
    "main_dict['mainEssay'] = {'title':temp_list[0].h2.a.text, \\\n",
    "    'URL':temp_list[0].h2.a['href']} "
   ]
  },
  {
   "cell_type": "code",
   "execution_count": 8,
   "metadata": {},
   "outputs": [],
   "source": [
    "main_dict['poemOfTheDay'] = {'title' : temp_list[1].h2.a.text, \\\n",
    "    'URL' : temp_list[1].h2.a['href']}"
   ]
  },
  {
   "cell_type": "code",
   "execution_count": 9,
   "metadata": {},
   "outputs": [],
   "source": [
    "main_dict['essay'] = {'title': temp_list[2].h2.a.text, \\\n",
    "    'URL':temp_list[2].h2.a['href']}"
   ]
  },
  {
   "cell_type": "code",
   "execution_count": 10,
   "metadata": {},
   "outputs": [],
   "source": [
    "switcher_dict = {\n",
    "    1 : 'mainEssay',\n",
    "    2 : 'poemOfTheDay',\n",
    "    3 : 'essay'\n",
    "}"
   ]
  },
  {
   "cell_type": "code",
   "execution_count": 11,
   "metadata": {},
   "outputs": [],
   "source": [
    "def fetchPOTD(title, URL):\n",
    "    print(\"Fetching {} from {} ....\".format(title, URL))\n",
    "    page = requests.get(URL)\n",
    "    soup = BeautifulSoup(page.content, 'lxml')\n",
    "    content_lines = soup.find_all('div', 'c-feature-bd')[0].div.find_all('div')\n",
    "    author = soup.find('span', 'c-txt c-txt_attribution').a.text\n",
    "    print(\"\\n\\n\\n\", title)\n",
    "    print(\"By\", author)\n",
    "    print()\n",
    "    for i in content_lines:\n",
    "        print(i.text)\n"
   ]
  },
  {
   "cell_type": "code",
   "execution_count": 12,
   "metadata": {},
   "outputs": [],
   "source": [
    "def fetchMainEssay(title, URL):\n",
    "    print(\"Fetching {} from {} ....\".format(title, URL))\n",
    "    page = requests.get(URL)\n",
    "    soup = BeautifulSoup(page.content, 'lxml')\n",
    "    tag_set = soup.find_all('div', 'c-userContent')\n",
    "    author = soup.find('span', 'c-txt c-txt_attribution').a.text\n",
    "    content_lines = tag_set[0].find_all('p')\n",
    "    print(\"\\n\\n\\n\", title)\n",
    "    print(\"By\", author)\n",
    "    print()\n",
    "    for i in content_lines:\n",
    "        print(i.text)\n"
   ]
  },
  {
   "cell_type": "code",
   "execution_count": 13,
   "metadata": {},
   "outputs": [],
   "source": [
    "def fetchEssay(title, URL):\n",
    "    print(\"Fetching {} from {} ....\".format(title, URL))\n",
    "    page = requests.get(URL)\n",
    "    soup = BeautifulSoup(page.content, 'lxml')\n",
    "    tag_set = soup.find_all('div', 'c-userContent')\n",
    "    content_lines = tag_set[0].find_all('p')\n",
    "    author = soup.find('span', 'c-txt c-txt_attribution').a.text\n",
    "    print(\"\\n\\n\\n\", title)\n",
    "    print(\"By\", author)\n",
    "    print()\n",
    "    for i in content_lines:\n",
    "        print(i.text)"
   ]
  },
  {
   "cell_type": "code",
   "execution_count": 14,
   "metadata": {},
   "outputs": [
    {
     "output_type": "stream",
     "name": "stdout",
     "text": [
      "Choices:\n",
      "1. Main Essay\n",
      "2. Poem Of The Day\n",
      "3. Essay\n",
      "\n",
      "Enter your choice (1-3) : \n",
      "Fetching Ode to a Nightingale from https://www.poetryfoundation.org/poems/44479/ode-to-a-nightingale ....\n",
      "\n",
      "\n",
      "\n",
      " Ode to a Nightingale\n",
      "By John Keats\n",
      "\n",
      "My heart aches, and a drowsy numbness pains \n",
      "         My sense, as though of hemlock I had drunk, \n",
      "Or emptied some dull opiate to the drains \n",
      "         One minute past, and Lethe-wards had sunk: \n",
      "'Tis not through envy of thy happy lot, \n",
      "         But being too happy in thine happiness,— \n",
      "                That thou, light-winged Dryad of the trees \n",
      "                        In some melodious plot \n",
      "         Of beechen green, and shadows numberless, \n",
      "                Singest of summer in full-throated ease. \n",
      "\n",
      "O, for a draught of vintage! that hath been \n",
      "         Cool'd a long age in the deep-delved earth, \n",
      "Tasting of Flora and the country green, \n",
      "         Dance, and Provençal song, and sunburnt mirth! \n",
      "O for a beaker full of the warm South, \n",
      "         Full of the true, the blushful Hippocrene, \n",
      "                With beaded bubbles winking at the brim, \n",
      "                        And purple-stained mouth; \n",
      "         That I might drink, and leave the world unseen, \n",
      "                And with thee fade away into the forest dim: \n",
      "\n",
      "Fade far away, dissolve, and quite forget \n",
      "         What thou among the leaves hast never known, \n",
      "The weariness, the fever, and the fret \n",
      "         Here, where men sit and hear each other groan; \n",
      "Where palsy shakes a few, sad, last gray hairs, \n",
      "         Where youth grows pale, and spectre-thin, and dies; \n",
      "                Where but to think is to be full of sorrow \n",
      "                        And leaden-eyed despairs, \n",
      "         Where Beauty cannot keep her lustrous eyes, \n",
      "                Or new Love pine at them beyond to-morrow. \n",
      "\n",
      "Away! away! for I will fly to thee, \n",
      "         Not charioted by Bacchus and his pards, \n",
      "But on the viewless wings of Poesy, \n",
      "         Though the dull brain perplexes and retards: \n",
      "Already with thee! tender is the night, \n",
      "         And haply the Queen-Moon is on her throne, \n",
      "                Cluster'd around by all her starry Fays; \n",
      "                        But here there is no light, \n",
      "         Save what from heaven is with the breezes blown \n",
      "                Through verdurous glooms and winding mossy ways. \n",
      "\n",
      "I cannot see what flowers are at my feet, \n",
      "         Nor what soft incense hangs upon the boughs, \n",
      "But, in embalmed darkness, guess each sweet \n",
      "         Wherewith the seasonable month endows \n",
      "The grass, the thicket, and the fruit-tree wild; \n",
      "         White hawthorn, and the pastoral eglantine; \n",
      "                Fast fading violets cover'd up in leaves; \n",
      "                        And mid-May's eldest child, \n",
      "         The coming musk-rose, full of dewy wine, \n",
      "                The murmurous haunt of flies on summer eves. \n",
      "\n",
      "Darkling I listen; and, for many a time \n",
      "         I have been half in love with easeful Death, \n",
      "Call'd him soft names in many a mused rhyme, \n",
      "         To take into the air my quiet breath; \n",
      "                Now more than ever seems it rich to die, \n",
      "         To cease upon the midnight with no pain, \n",
      "                While thou art pouring forth thy soul abroad \n",
      "                        In such an ecstasy! \n",
      "         Still wouldst thou sing, and I have ears in vain— \n",
      "                   To thy high requiem become a sod. \n",
      "\n",
      "Thou wast not born for death, immortal Bird! \n",
      "         No hungry generations tread thee down; \n",
      "The voice I hear this passing night was heard \n",
      "         In ancient days by emperor and clown: \n",
      "Perhaps the self-same song that found a path \n",
      "         Through the sad heart of Ruth, when, sick for home, \n",
      "                She stood in tears amid the alien corn; \n",
      "                        The same that oft-times hath \n",
      "         Charm'd magic casements, opening on the foam \n",
      "                Of perilous seas, in faery lands forlorn. \n",
      "\n",
      "Forlorn! the very word is like a bell \n",
      "         To toll me back from thee to my sole self! \n",
      "Adieu! the fancy cannot cheat so well \n",
      "         As she is fam'd to do, deceiving elf. \n",
      "Adieu! adieu! thy plaintive anthem fades \n",
      "         Past the near meadows, over the still stream, \n",
      "                Up the hill-side; and now 'tis buried deep \n",
      "                        In the next valley-glades: \n",
      "         Was it a vision, or a waking dream? \n",
      "                Fled is that music:—Do I wake or sleep? \n",
      "\n",
      "\n"
     ]
    }
   ],
   "source": [
    "#choice\n",
    "print(\"Choices:\\n1. Main Essay\\n2. Poem Of The Day\\n3. Essay\\n\\nEnter your choice (1-3) : \")\n",
    "choice = int(input())\n",
    "target_title = main_dict[switcher_dict[choice]]['title']\n",
    "target_URL = main_dict[switcher_dict[choice]]['URL']\n",
    "if choice == 1:\n",
    "    fetchMainEssay(target_title, target_URL)\n",
    "elif choice == 2:\n",
    "    fetchPOTD(target_title, target_URL)\n",
    "elif choice == 3:\n",
    "    fetchEssay(target_title, target_URL)\n",
    "else:\n",
    "    print(\"Have a valid choice, please! :(\\n\")\n",
    "\n"
   ]
  },
  {
   "cell_type": "code",
   "execution_count": null,
   "metadata": {},
   "outputs": [],
   "source": []
  }
 ]
}